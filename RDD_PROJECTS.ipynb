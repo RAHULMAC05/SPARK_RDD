{
 "cells": [
  {
   "cell_type": "markdown",
   "metadata": {
    "application/vnd.databricks.v1+cell": {
     "cellMetadata": {
      "byteLimit": 2048000,
      "rowLimit": 10000
     },
     "inputWidgets": {},
     "nuid": "73efea2b-1133-415f-9b43-8129cbc84c06",
     "showTitle": false,
     "tableResultSettingsMap": {},
     "title": ""
    }
   },
   "source": [
    "PROJECT -1"
   ]
  },
  {
   "cell_type": "code",
   "execution_count": 0,
   "metadata": {
    "application/vnd.databricks.v1+cell": {
     "cellMetadata": {
      "byteLimit": 2048000,
      "rowLimit": 10000
     },
     "inputWidgets": {},
     "nuid": "676b3d5e-9851-407e-85af-102612b27563",
     "showTitle": false,
     "tableResultSettingsMap": {},
     "title": ""
    }
   },
   "outputs": [],
   "source": [
    "from pyspark import SparkContext"
   ]
  },
  {
   "cell_type": "code",
   "execution_count": null,
   "metadata": {},
   "outputs": [],
   "source": [
    "sc = SparkContext(\"local[*]\",\"simp\")"
   ]
  },
  {
   "cell_type": "code",
   "execution_count": 0,
   "metadata": {
    "application/vnd.databricks.v1+cell": {
     "cellMetadata": {
      "byteLimit": 2048000,
      "rowLimit": 10000
     },
     "inputWidgets": {},
     "nuid": "44306bac-30e4-4a59-9651-abc0bfa42ec1",
     "showTitle": false,
     "tableResultSettingsMap": {},
     "title": ""
    }
   },
   "outputs": [],
   "source": [
    "rdd = sc.textFile('/FileStore/tables/rdd_pro.txt')"
   ]
  },
  {
   "cell_type": "code",
   "execution_count": 0,
   "metadata": {
    "application/vnd.databricks.v1+cell": {
     "cellMetadata": {
      "byteLimit": 2048000,
      "rowLimit": 10000
     },
     "inputWidgets": {},
     "nuid": "75335980-1415-4b41-8b24-e32ba6337bcd",
     "showTitle": false,
     "tableResultSettingsMap": {},
     "title": ""
    }
   },
   "outputs": [
    {
     "name": "stdout",
     "output_type": "stream",
     "text": [
      "Out[6]: ['Date,Product,Category,Quantity,Price',\n",
      " '2025-05-10,Pen,Stationery,10,5',\n",
      " '2025-05-10,Notebook,Stationery,5,50',\n",
      " '2025-05-11,Chocolate,Snacks,20,10',\n",
      " '2025-05-11,Juice,Snacks,8,30',\n",
      " '2025-05-12,Pen,Stationery,15,5',\n",
      " '2025-05-12,Juice,Snacks,10,30',\n",
      " '2025-05-12,Notebook,Stationery,7,50',\n",
      " '2025-05-13,Chocolate,Snacks,12,10',\n",
      " '2025-05-13,Pen,Stationery,20,5']"
     ]
    }
   ],
   "source": [
    "rdd.collect()"
   ]
  },
  {
   "cell_type": "markdown",
   "metadata": {
    "application/vnd.databricks.v1+cell": {
     "cellMetadata": {
      "byteLimit": 2048000,
      "rowLimit": 10000
     },
     "inputWidgets": {},
     "nuid": "ff8d44ad-53ae-4218-acfa-d1b7aa9ac184",
     "showTitle": false,
     "tableResultSettingsMap": {},
     "title": ""
    }
   },
   "source": [
    "Count the total number of sales records"
   ]
  },
  {
   "cell_type": "code",
   "execution_count": 0,
   "metadata": {
    "application/vnd.databricks.v1+cell": {
     "cellMetadata": {
      "byteLimit": 2048000,
      "rowLimit": 10000
     },
     "inputWidgets": {},
     "nuid": "0e6c4b34-08ad-447e-accb-f45393a0a8e8",
     "showTitle": false,
     "tableResultSettingsMap": {},
     "title": ""
    }
   },
   "outputs": [],
   "source": [
    "header = rdd.first()"
   ]
  },
  {
   "cell_type": "code",
   "execution_count": 0,
   "metadata": {
    "application/vnd.databricks.v1+cell": {
     "cellMetadata": {
      "byteLimit": 2048000,
      "rowLimit": 10000
     },
     "inputWidgets": {},
     "nuid": "1d3f08c0-1545-4c2a-8cf7-5d438f97ea5f",
     "showTitle": false,
     "tableResultSettingsMap": {},
     "title": ""
    }
   },
   "outputs": [],
   "source": [
    "r = rdd.filter(lambda x : x!= header)"
   ]
  },
  {
   "cell_type": "code",
   "execution_count": 0,
   "metadata": {
    "application/vnd.databricks.v1+cell": {
     "cellMetadata": {
      "byteLimit": 2048000,
      "rowLimit": 10000
     },
     "inputWidgets": {},
     "nuid": "784703e3-1cfb-42c8-9b87-91e6dec9285d",
     "showTitle": false,
     "tableResultSettingsMap": {},
     "title": ""
    }
   },
   "outputs": [
    {
     "name": "stdout",
     "output_type": "stream",
     "text": [
      "Out[9]: 9"
     ]
    }
   ],
   "source": [
    "r.count()"
   ]
  },
  {
   "cell_type": "markdown",
   "metadata": {
    "application/vnd.databricks.v1+cell": {
     "cellMetadata": {
      "byteLimit": 2048000,
      "rowLimit": 10000
     },
     "inputWidgets": {},
     "nuid": "830efb9c-8f41-4689-add2-5417a5880c6a",
     "showTitle": false,
     "tableResultSettingsMap": {},
     "title": ""
    }
   },
   "source": [
    "List all unique product names."
   ]
  },
  {
   "cell_type": "code",
   "execution_count": 0,
   "metadata": {
    "application/vnd.databricks.v1+cell": {
     "cellMetadata": {
      "byteLimit": 2048000,
      "rowLimit": 10000
     },
     "inputWidgets": {},
     "nuid": "aeca88ba-fbd8-41a1-9385-0c1fc1f73c58",
     "showTitle": false,
     "tableResultSettingsMap": {},
     "title": ""
    }
   },
   "outputs": [
    {
     "name": "stdout",
     "output_type": "stream",
     "text": [
      "Out[10]: ['Date,Product,Category,Quantity,Price',\n",
      " '2025-05-10,Pen,Stationery,10,5',\n",
      " '2025-05-10,Notebook,Stationery,5,50',\n",
      " '2025-05-11,Chocolate,Snacks,20,10',\n",
      " '2025-05-11,Juice,Snacks,8,30',\n",
      " '2025-05-12,Pen,Stationery,15,5',\n",
      " '2025-05-12,Juice,Snacks,10,30',\n",
      " '2025-05-12,Notebook,Stationery,7,50',\n",
      " '2025-05-13,Chocolate,Snacks,12,10',\n",
      " '2025-05-13,Pen,Stationery,20,5']"
     ]
    }
   ],
   "source": [
    "rdd.collect()"
   ]
  },
  {
   "cell_type": "code",
   "execution_count": 0,
   "metadata": {
    "application/vnd.databricks.v1+cell": {
     "cellMetadata": {
      "byteLimit": 2048000,
      "rowLimit": 10000
     },
     "inputWidgets": {},
     "nuid": "58f43dbc-c1cc-4ebf-bd1f-2dd018834049",
     "showTitle": false,
     "tableResultSettingsMap": {},
     "title": ""
    }
   },
   "outputs": [
    {
     "name": "stdout",
     "output_type": "stream",
     "text": [
      "Out[13]: ['Pen', 'Chocolate', 'Notebook', 'Juice']"
     ]
    }
   ],
   "source": [
    "r.map(lambda line : line.split(',')[1]).distinct().collect()"
   ]
  },
  {
   "cell_type": "markdown",
   "metadata": {
    "application/vnd.databricks.v1+cell": {
     "cellMetadata": {
      "byteLimit": 2048000,
      "rowLimit": 10000
     },
     "inputWidgets": {},
     "nuid": "dff39bfd-2ccb-4a73-9925-8f09a35dbd36",
     "showTitle": false,
     "tableResultSettingsMap": {},
     "title": ""
    }
   },
   "source": [
    "Find total quantity sold for each product."
   ]
  },
  {
   "cell_type": "code",
   "execution_count": 0,
   "metadata": {
    "application/vnd.databricks.v1+cell": {
     "cellMetadata": {
      "byteLimit": 2048000,
      "rowLimit": 10000
     },
     "inputWidgets": {},
     "nuid": "ae18be23-ebce-4ec0-8ebb-76156a96aa2c",
     "showTitle": false,
     "tableResultSettingsMap": {},
     "title": ""
    }
   },
   "outputs": [],
   "source": [
    "gr = r.map(lambda line : (line.split(',')[1],int(line.split(',')[3])))"
   ]
  },
  {
   "cell_type": "code",
   "execution_count": 0,
   "metadata": {
    "application/vnd.databricks.v1+cell": {
     "cellMetadata": {
      "byteLimit": 2048000,
      "rowLimit": 10000
     },
     "inputWidgets": {},
     "nuid": "502dcf05-d9fb-4e64-b83c-5e3223857555",
     "showTitle": false,
     "tableResultSettingsMap": {},
     "title": ""
    }
   },
   "outputs": [
    {
     "name": "stdout",
     "output_type": "stream",
     "text": [
      "Out[21]: [('Pen', 10),\n",
      " ('Notebook', 5),\n",
      " ('Chocolate', 20),\n",
      " ('Juice', 8),\n",
      " ('Pen', 15),\n",
      " ('Juice', 10),\n",
      " ('Notebook', 7),\n",
      " ('Chocolate', 12),\n",
      " ('Pen', 20)]"
     ]
    }
   ],
   "source": [
    "gr.collect()"
   ]
  },
  {
   "cell_type": "code",
   "execution_count": 0,
   "metadata": {
    "application/vnd.databricks.v1+cell": {
     "cellMetadata": {
      "byteLimit": 2048000,
      "rowLimit": 10000
     },
     "inputWidgets": {},
     "nuid": "8dc17282-f567-4826-8948-214eaceaaf52",
     "showTitle": false,
     "tableResultSettingsMap": {},
     "title": ""
    }
   },
   "outputs": [
    {
     "name": "stdout",
     "output_type": "stream",
     "text": [
      "Pen : 45\n",
      "Chocolate : 32\n",
      "Notebook : 12\n",
      "Juice : 18\n"
     ]
    }
   ],
   "source": [
    "result = gr.reduceByKey(lambda x , y : x + y)\n",
    "for i,j in result.collect():\n",
    "    print(f'{i} : {j}')"
   ]
  },
  {
   "cell_type": "markdown",
   "metadata": {
    "application/vnd.databricks.v1+cell": {
     "cellMetadata": {
      "byteLimit": 2048000,
      "rowLimit": 10000
     },
     "inputWidgets": {},
     "nuid": "d8f24842-563d-42e5-906e-453e363545ce",
     "showTitle": false,
     "tableResultSettingsMap": {},
     "title": ""
    }
   },
   "source": [
    "Calculate total sales amount (Quantity × Price) for each product."
   ]
  },
  {
   "cell_type": "code",
   "execution_count": 0,
   "metadata": {
    "application/vnd.databricks.v1+cell": {
     "cellMetadata": {
      "byteLimit": 2048000,
      "rowLimit": 10000
     },
     "inputWidgets": {},
     "nuid": "23e1dc84-08fa-48fb-ae19-9e429c165fb7",
     "showTitle": false,
     "tableResultSettingsMap": {},
     "title": ""
    }
   },
   "outputs": [
    {
     "name": "stdout",
     "output_type": "stream",
     "text": [
      "Out[26]: ['Date,Product,Category,Quantity,Price',\n",
      " '2025-05-10,Pen,Stationery,10,5',\n",
      " '2025-05-10,Notebook,Stationery,5,50',\n",
      " '2025-05-11,Chocolate,Snacks,20,10',\n",
      " '2025-05-11,Juice,Snacks,8,30',\n",
      " '2025-05-12,Pen,Stationery,15,5',\n",
      " '2025-05-12,Juice,Snacks,10,30',\n",
      " '2025-05-12,Notebook,Stationery,7,50',\n",
      " '2025-05-13,Chocolate,Snacks,12,10',\n",
      " '2025-05-13,Pen,Stationery,20,5']"
     ]
    }
   ],
   "source": [
    "rdd.collect()"
   ]
  },
  {
   "cell_type": "code",
   "execution_count": 0,
   "metadata": {
    "application/vnd.databricks.v1+cell": {
     "cellMetadata": {
      "byteLimit": 2048000,
      "rowLimit": 10000
     },
     "inputWidgets": {},
     "nuid": "5a822b31-51a6-4413-9ce7-4f73a89c8502",
     "showTitle": false,
     "tableResultSettingsMap": {},
     "title": ""
    }
   },
   "outputs": [],
   "source": [
    "header = rdd.first()\n",
    "fil = rdd.filter(lambda x  : x != header)\n",
    "result = fil.map(lambda line : (line.split(',')[1],int(line.split(\",\")[3]) * int(line.split(\",\")[4])))"
   ]
  },
  {
   "cell_type": "code",
   "execution_count": 0,
   "metadata": {
    "application/vnd.databricks.v1+cell": {
     "cellMetadata": {
      "byteLimit": 2048000,
      "rowLimit": 10000
     },
     "inputWidgets": {},
     "nuid": "78574f6a-ef73-4d6f-9ce0-1bccb18b7377",
     "showTitle": false,
     "tableResultSettingsMap": {},
     "title": ""
    }
   },
   "outputs": [
    {
     "name": "stdout",
     "output_type": "stream",
     "text": [
      "Pen : 225\n",
      "Chocolate : 320\n",
      "Notebook : 600\n",
      "Juice : 540\n"
     ]
    }
   ],
   "source": [
    "final = result.reduceByKey(lambda x,y : x + y)\n",
    "for i ,k in final.collect():\n",
    "    print(f'{i} : {k}')"
   ]
  },
  {
   "cell_type": "markdown",
   "metadata": {
    "application/vnd.databricks.v1+cell": {
     "cellMetadata": {},
     "inputWidgets": {},
     "nuid": "458bace2-6e4a-42bd-8693-ec94933c7fe9",
     "showTitle": false,
     "tableResultSettingsMap": {},
     "title": ""
    }
   },
   "source": [
    "5️⃣ Find which product had the highest total sales amount."
   ]
  },
  {
   "cell_type": "code",
   "execution_count": 0,
   "metadata": {
    "application/vnd.databricks.v1+cell": {
     "cellMetadata": {
      "byteLimit": 2048000,
      "rowLimit": 10000
     },
     "inputWidgets": {},
     "nuid": "14d8dc90-1ee8-4da1-9d4d-1539fc300619",
     "showTitle": false,
     "tableResultSettingsMap": {},
     "title": ""
    }
   },
   "outputs": [
    {
     "name": "stdout",
     "output_type": "stream",
     "text": [
      "Out[29]: [('Pen', 225), ('Chocolate', 320), ('Notebook', 600), ('Juice', 540)]"
     ]
    }
   ],
   "source": [
    "final.collect()"
   ]
  },
  {
   "cell_type": "code",
   "execution_count": 0,
   "metadata": {
    "application/vnd.databricks.v1+cell": {
     "cellMetadata": {
      "byteLimit": 2048000,
      "rowLimit": 10000
     },
     "inputWidgets": {},
     "nuid": "0a53d442-2b89-45ec-890d-c870eee5b452",
     "showTitle": false,
     "tableResultSettingsMap": {},
     "title": ""
    }
   },
   "outputs": [],
   "source": [
    "#final.sortBy(lambda x : x[1],ascending= False).first()\n",
    "high = final.sortBy(lambda x : x[1],ascending= False)"
   ]
  },
  {
   "cell_type": "code",
   "execution_count": 0,
   "metadata": {
    "application/vnd.databricks.v1+cell": {
     "cellMetadata": {
      "byteLimit": 2048000,
      "rowLimit": 10000
     },
     "inputWidgets": {},
     "nuid": "ea836b52-fcc1-40f6-b3e4-a30f5929c506",
     "showTitle": false,
     "tableResultSettingsMap": {},
     "title": ""
    }
   },
   "outputs": [
    {
     "name": "stdout",
     "output_type": "stream",
     "text": [
      "The highest sales are from Notebook with the sale of 600\n"
     ]
    }
   ],
   "source": [
    "for r , t in high.collect():\n",
    "    print(f'The highest sales are from {r} with the sale of {t}')\n",
    "    break;"
   ]
  },
  {
   "cell_type": "markdown",
   "metadata": {
    "application/vnd.databricks.v1+cell": {
     "cellMetadata": {},
     "inputWidgets": {},
     "nuid": "05af2fde-6019-49c4-a237-1bf63356c8ac",
     "showTitle": false,
     "tableResultSettingsMap": {},
     "title": ""
    }
   },
   "source": [
    "Count total quantity sold for each product category."
   ]
  },
  {
   "cell_type": "code",
   "execution_count": 0,
   "metadata": {
    "application/vnd.databricks.v1+cell": {
     "cellMetadata": {
      "byteLimit": 2048000,
      "rowLimit": 10000
     },
     "inputWidgets": {},
     "nuid": "28784395-fcb9-41df-ab5b-6db630515141",
     "showTitle": false,
     "tableResultSettingsMap": {},
     "title": ""
    }
   },
   "outputs": [
    {
     "name": "stdout",
     "output_type": "stream",
     "text": [
      "Out[36]: ['Date,Product,Category,Quantity,Price',\n",
      " '2025-05-10,Pen,Stationery,10,5',\n",
      " '2025-05-10,Notebook,Stationery,5,50',\n",
      " '2025-05-11,Chocolate,Snacks,20,10',\n",
      " '2025-05-11,Juice,Snacks,8,30',\n",
      " '2025-05-12,Pen,Stationery,15,5',\n",
      " '2025-05-12,Juice,Snacks,10,30',\n",
      " '2025-05-12,Notebook,Stationery,7,50',\n",
      " '2025-05-13,Chocolate,Snacks,12,10',\n",
      " '2025-05-13,Pen,Stationery,20,5']"
     ]
    }
   ],
   "source": [
    "rdd.collect()"
   ]
  },
  {
   "cell_type": "code",
   "execution_count": 0,
   "metadata": {
    "application/vnd.databricks.v1+cell": {
     "cellMetadata": {
      "byteLimit": 2048000,
      "rowLimit": 10000
     },
     "inputWidgets": {},
     "nuid": "dc3932cb-4603-4b31-894e-820b479a8f1f",
     "showTitle": false,
     "tableResultSettingsMap": {},
     "title": ""
    }
   },
   "outputs": [],
   "source": [
    "res = fil.map(lambda x : (x.split(\",\")[2],int(x.split(',')[3])))"
   ]
  },
  {
   "cell_type": "code",
   "execution_count": 0,
   "metadata": {
    "application/vnd.databricks.v1+cell": {
     "cellMetadata": {
      "byteLimit": 2048000,
      "rowLimit": 10000
     },
     "inputWidgets": {},
     "nuid": "3cfb3506-975d-47ab-a144-389e7f89625d",
     "showTitle": false,
     "tableResultSettingsMap": {},
     "title": ""
    }
   },
   "outputs": [
    {
     "name": "stdout",
     "output_type": "stream",
     "text": [
      "Out[38]: [('Snacks', 50), ('Stationery', 57)]"
     ]
    }
   ],
   "source": [
    "res.reduceByKey(lambda x,y : x + y).collect()"
   ]
  },
  {
   "cell_type": "markdown",
   "metadata": {
    "application/vnd.databricks.v1+cell": {
     "cellMetadata": {},
     "inputWidgets": {},
     "nuid": "ffa4eab8-3859-4fc5-809d-c33ae3d105c3",
     "showTitle": false,
     "tableResultSettingsMap": {},
     "title": ""
    }
   },
   "source": [
    "Find total sales on each date"
   ]
  },
  {
   "cell_type": "code",
   "execution_count": 0,
   "metadata": {
    "application/vnd.databricks.v1+cell": {
     "cellMetadata": {
      "byteLimit": 2048000,
      "rowLimit": 10000
     },
     "inputWidgets": {},
     "nuid": "d0fcd948-7a0b-47de-9a7d-bd5b1d6e997f",
     "showTitle": false,
     "tableResultSettingsMap": {},
     "title": ""
    }
   },
   "outputs": [
    {
     "name": "stdout",
     "output_type": "stream",
     "text": [
      "Out[39]: ['Date,Product,Category,Quantity,Price',\n",
      " '2025-05-10,Pen,Stationery,10,5',\n",
      " '2025-05-10,Notebook,Stationery,5,50',\n",
      " '2025-05-11,Chocolate,Snacks,20,10',\n",
      " '2025-05-11,Juice,Snacks,8,30',\n",
      " '2025-05-12,Pen,Stationery,15,5',\n",
      " '2025-05-12,Juice,Snacks,10,30',\n",
      " '2025-05-12,Notebook,Stationery,7,50',\n",
      " '2025-05-13,Chocolate,Snacks,12,10',\n",
      " '2025-05-13,Pen,Stationery,20,5']"
     ]
    }
   ],
   "source": [
    "rdd.collect()"
   ]
  },
  {
   "cell_type": "code",
   "execution_count": 0,
   "metadata": {
    "application/vnd.databricks.v1+cell": {
     "cellMetadata": {
      "byteLimit": 2048000,
      "rowLimit": 10000
     },
     "inputWidgets": {},
     "nuid": "c14e8194-0062-41eb-a8f2-465671092e22",
     "showTitle": false,
     "tableResultSettingsMap": {},
     "title": ""
    }
   },
   "outputs": [
    {
     "name": "stdout",
     "output_type": "stream",
     "text": [
      "Out[48]: [('2025-05-10', 50),\n",
      " ('2025-05-10', 250),\n",
      " ('2025-05-11', 200),\n",
      " ('2025-05-11', 240),\n",
      " ('2025-05-12', 75),\n",
      " ('2025-05-12', 300),\n",
      " ('2025-05-12', 350),\n",
      " ('2025-05-13', 120),\n",
      " ('2025-05-13', 100)]"
     ]
    }
   ],
   "source": [
    "pruning = fil.map(lambda c : (c.split(',')[0]\\\n",
    "                                 ,int(c.split(',')[3])* int(c.split(',')[4])))"
   ]
  },
  {
   "cell_type": "code",
   "execution_count": 0,
   "metadata": {
    "application/vnd.databricks.v1+cell": {
     "cellMetadata": {
      "byteLimit": 2048000,
      "rowLimit": 10000
     },
     "inputWidgets": {},
     "nuid": "f57a41ee-21c2-4f58-b156-51e274271a18",
     "showTitle": false,
     "tableResultSettingsMap": {},
     "title": ""
    }
   },
   "outputs": [
    {
     "name": "stdout",
     "output_type": "stream",
     "text": [
      "Out[45]: [('2025-05-10', 300),\n",
      " ('2025-05-11', 440),\n",
      " ('2025-05-13', 220),\n",
      " ('2025-05-12', 725)]"
     ]
    }
   ],
   "source": [
    "pruning.reduceByKey(lambda x ,y: x + y).collect()"
   ]
  },
  {
   "cell_type": "markdown",
   "metadata": {
    "application/vnd.databricks.v1+cell": {
     "cellMetadata": {},
     "inputWidgets": {},
     "nuid": "74aadf48-2d73-4e35-928e-d059cb560020",
     "showTitle": false,
     "tableResultSettingsMap": {},
     "title": ""
    }
   },
   "source": [
    "Calculate the average price of products in each category"
   ]
  },
  {
   "cell_type": "code",
   "execution_count": 0,
   "metadata": {
    "application/vnd.databricks.v1+cell": {
     "cellMetadata": {
      "byteLimit": 2048000,
      "rowLimit": 10000
     },
     "inputWidgets": {},
     "nuid": "7215f20d-7c18-49ed-a678-093e29746dce",
     "showTitle": false,
     "tableResultSettingsMap": {},
     "title": ""
    }
   },
   "outputs": [],
   "source": [
    "pruning = fil.map(lambda x : (x.split(',')[2],(int(x.split(',')[4]),1)))"
   ]
  },
  {
   "cell_type": "code",
   "execution_count": 0,
   "metadata": {
    "application/vnd.databricks.v1+cell": {
     "cellMetadata": {
      "byteLimit": 2048000,
      "rowLimit": 10000
     },
     "inputWidgets": {},
     "nuid": "80889238-b738-4ef2-a0a1-47cd41668468",
     "showTitle": false,
     "tableResultSettingsMap": {},
     "title": ""
    }
   },
   "outputs": [
    {
     "name": "stdout",
     "output_type": "stream",
     "text": [
      "Out[52]: [('Stationery', (5, 1)),\n",
      " ('Stationery', (50, 1)),\n",
      " ('Snacks', (10, 1)),\n",
      " ('Snacks', (30, 1)),\n",
      " ('Stationery', (5, 1)),\n",
      " ('Snacks', (30, 1)),\n",
      " ('Stationery', (50, 1)),\n",
      " ('Snacks', (10, 1)),\n",
      " ('Stationery', (5, 1))]"
     ]
    }
   ],
   "source": [
    "pruning.collect()"
   ]
  },
  {
   "cell_type": "code",
   "execution_count": 0,
   "metadata": {
    "application/vnd.databricks.v1+cell": {
     "cellMetadata": {
      "byteLimit": 2048000,
      "rowLimit": 10000
     },
     "inputWidgets": {},
     "nuid": "d47ac45a-a297-421f-b3a4-b7c7f54a5ca5",
     "showTitle": false,
     "tableResultSettingsMap": {},
     "title": ""
    }
   },
   "outputs": [],
   "source": [
    "calc = pruning.reduceByKey(lambda x , y : (x[0] + y[0] , x[1] + y[1]))"
   ]
  },
  {
   "cell_type": "code",
   "execution_count": 0,
   "metadata": {
    "application/vnd.databricks.v1+cell": {
     "cellMetadata": {
      "byteLimit": 2048000,
      "rowLimit": 10000
     },
     "inputWidgets": {},
     "nuid": "d19d5181-29da-4145-a8ff-6d9208ff9ccf",
     "showTitle": false,
     "tableResultSettingsMap": {},
     "title": ""
    }
   },
   "outputs": [
    {
     "name": "stdout",
     "output_type": "stream",
     "text": [
      "Out[61]: [('Snacks', 20.0), ('Stationery', 23.0)]"
     ]
    }
   ],
   "source": [
    "calc.mapValues(lambda x :x[0] / x[1]).collect()"
   ]
  },
  {
   "cell_type": "markdown",
   "metadata": {
    "application/vnd.databricks.v1+cell": {
     "cellMetadata": {},
     "inputWidgets": {},
     "nuid": "bad49592-3392-4ce8-8b1f-721de23be51e",
     "showTitle": false,
     "tableResultSettingsMap": {},
     "title": ""
    }
   },
   "source": [
    "PROJECT - 2 ADV"
   ]
  },
  {
   "cell_type": "code",
   "execution_count": 0,
   "metadata": {
    "application/vnd.databricks.v1+cell": {
     "cellMetadata": {
      "byteLimit": 2048000,
      "rowLimit": 10000
     },
     "inputWidgets": {},
     "nuid": "c44e5c63-44c6-40bc-a671-ef0066de82de",
     "showTitle": false,
     "tableResultSettingsMap": {},
     "title": ""
    }
   },
   "outputs": [
    {
     "name": "stdout",
     "output_type": "stream",
     "text": [
      "Out[62]: [FileInfo(path='dbfs:/FileStore/tables/2015_summary-1.csv', name='2015_summary-1.csv', size=7080, modificationTime=1739873649000),\n",
      " FileInfo(path='dbfs:/FileStore/tables/2015_summary.csv', name='2015_summary.csv', size=7080, modificationTime=1739873450000),\n",
      " FileInfo(path='dbfs:/FileStore/tables/2015_summary.json', name='2015_summary.json', size=21368, modificationTime=1740528109000),\n",
      " FileInfo(path='dbfs:/FileStore/tables/BigMart_Sales.csv', name='BigMart_Sales.csv', size=869537, modificationTime=1739784325000),\n",
      " FileInfo(path='dbfs:/FileStore/tables/BigMart_Sales__1_.csv', name='BigMart_Sales__1_.csv', size=869537, modificationTime=1746685898000),\n",
      " FileInfo(path='dbfs:/FileStore/tables/CSV/', name='CSV/', size=0, modificationTime=0),\n",
      " FileInfo(path='dbfs:/FileStore/tables/access_log_large.txt', name='access_log_large.txt', size=79627, modificationTime=1747209658000),\n",
      " FileInfo(path='dbfs:/FileStore/tables/cleaned_airbnb_data___Copy.csv', name='cleaned_airbnb_data___Copy.csv', size=18250916, modificationTime=1746365328000),\n",
      " FileInfo(path='dbfs:/FileStore/tables/drivers.json', name='drivers.json', size=180812, modificationTime=1739786074000),\n",
      " FileInfo(path='dbfs:/FileStore/tables/rdd_pro.txt', name='rdd_pro.txt', size=339, modificationTime=1747127441000),\n",
      " FileInfo(path='dbfs:/FileStore/tables/retail-data/', name='retail-data/', size=0, modificationTime=0)]"
     ]
    }
   ],
   "source": [
    "dbutils.fs.ls('/FileStore/tables/')"
   ]
  },
  {
   "cell_type": "code",
   "execution_count": 0,
   "metadata": {
    "application/vnd.databricks.v1+cell": {
     "cellMetadata": {
      "byteLimit": 2048000,
      "rowLimit": 10000
     },
     "inputWidgets": {},
     "nuid": "716408a4-2d45-48eb-9216-bb82503a414f",
     "showTitle": false,
     "tableResultSettingsMap": {},
     "title": ""
    }
   },
   "outputs": [],
   "source": [
    "rdd = sc.textFile('dbfs:/FileStore/tables/access_log_large.txt')           "
   ]
  },
  {
   "cell_type": "code",
   "execution_count": 0,
   "metadata": {
    "application/vnd.databricks.v1+cell": {
     "cellMetadata": {
      "byteLimit": 2048000,
      "rowLimit": 10000
     },
     "inputWidgets": {},
     "nuid": "fef4beca-ab13-448d-8d79-734e9efa277f",
     "showTitle": false,
     "tableResultSettingsMap": {},
     "title": ""
    }
   },
   "outputs": [
    {
     "name": "stdout",
     "output_type": "stream",
     "text": [
      "Out[2]: ['192.168.8.44 - - [14/May/2025:13:55:00 +0000] \"GET /index.html HTTP/1.1\" 500 512',\n",
      " '192.168.0.53 - - [14/May/2025:13:55:18 +0000] \"GET /products HTTP/1.1\" 200 331',\n",
      " '192.168.0.142 - - [14/May/2025:13:55:23 +0000] \"POST /dashboard HTTP/1.1\" 404 642',\n",
      " '192.168.6.249 - - [14/May/2025:13:55:56 +0000] \"GET /profile HTTP/1.1\" 200 512',\n",
      " '192.168.3.9 - - [14/May/2025:13:56:14 +0000] \"GET /index.html HTTP/1.1\" 404 899',\n",
      " '192.168.10.37 - - [14/May/2025:13:56:35 +0000] \"GET /index.html HTTP/1.1\" 403 215',\n",
      " '192.168.0.57 - - [14/May/2025:13:57:28 +0000] \"GET /index.html HTTP/1.1\" 200 378',\n",
      " '192.168.4.179 - - [14/May/2025:13:58:04 +0000] \"GET /login HTTP/1.1\" 404 642',\n",
      " '192.168.3.10 - - [14/May/2025:13:58:10 +0000] \"GET /profile HTTP/1.1\" 500 325',\n",
      " '192.168.2.237 - - [14/May/2025:13:58:39 +0000] \"GET /login HTTP/1.1\" 403 245']"
     ]
    }
   ],
   "source": [
    "rdd.take(10)"
   ]
  },
  {
   "cell_type": "code",
   "execution_count": 0,
   "metadata": {
    "application/vnd.databricks.v1+cell": {
     "cellMetadata": {
      "byteLimit": 2048000,
      "rowLimit": 10000
     },
     "inputWidgets": {},
     "nuid": "1a867f0a-7908-48c5-9340-b3107c4cff8c",
     "showTitle": false,
     "tableResultSettingsMap": {},
     "title": ""
    }
   },
   "outputs": [],
   "source": [
    "def parsing(line):\n",
    "    part = line.split(' ')\n",
    "    ip = part[0]\n",
    "    timestamp = part[3][1:]\n",
    "    method = part[5][1:]\n",
    "    resource = part[6]\n",
    "    status = part[8]\n",
    "    size = part[9]\n",
    "    return (ip,timestamp,method,resource,status,size)"
   ]
  },
  {
   "cell_type": "code",
   "execution_count": 0,
   "metadata": {
    "application/vnd.databricks.v1+cell": {
     "cellMetadata": {
      "byteLimit": 2048000,
      "rowLimit": 10000
     },
     "inputWidgets": {},
     "nuid": "52112373-0d59-4f5f-a8bb-d5dffa53ec81",
     "showTitle": false,
     "tableResultSettingsMap": {},
     "title": ""
    }
   },
   "outputs": [],
   "source": [
    "srdd = rdd.map(parsing)"
   ]
  },
  {
   "cell_type": "code",
   "execution_count": 0,
   "metadata": {
    "application/vnd.databricks.v1+cell": {
     "cellMetadata": {
      "byteLimit": 2048000,
      "rowLimit": 10000
     },
     "inputWidgets": {},
     "nuid": "4105ac05-feb5-413e-b5b6-518f19a32e32",
     "showTitle": false,
     "tableResultSettingsMap": {},
     "title": ""
    }
   },
   "outputs": [
    {
     "name": "stdout",
     "output_type": "stream",
     "text": [
      "Out[20]: [('192.168.8.44', '14/May/2025:13:55:00', 'GET', '/index.html', '500', '512'),\n",
      " ('192.168.0.53', '14/May/2025:13:55:18', 'GET', '/products', '200', '331'),\n",
      " ('192.168.0.142', '14/May/2025:13:55:23', 'POST', '/dashboard', '404', '642'),\n",
      " ('192.168.6.249', '14/May/2025:13:55:56', 'GET', '/profile', '200', '512'),\n",
      " ('192.168.3.9', '14/May/2025:13:56:14', 'GET', '/index.html', '404', '899'),\n",
      " ('192.168.10.37', '14/May/2025:13:56:35', 'GET', '/index.html', '403', '215'),\n",
      " ('192.168.0.57', '14/May/2025:13:57:28', 'GET', '/index.html', '200', '378'),\n",
      " ('192.168.4.179', '14/May/2025:13:58:04', 'GET', '/login', '404', '642'),\n",
      " ('192.168.3.10', '14/May/2025:13:58:10', 'GET', '/profile', '500', '325'),\n",
      " ('192.168.2.237', '14/May/2025:13:58:39', 'GET', '/login', '403', '245')]"
     ]
    }
   ],
   "source": [
    "srdd.take(10)"
   ]
  },
  {
   "cell_type": "code",
   "execution_count": 0,
   "metadata": {
    "application/vnd.databricks.v1+cell": {
     "cellMetadata": {
      "byteLimit": 2048000,
      "rowLimit": 10000
     },
     "inputWidgets": {},
     "nuid": "d3406fe8-6b0e-45b4-9874-2233c9206298",
     "showTitle": false,
     "tableResultSettingsMap": {},
     "title": ""
    }
   },
   "outputs": [
    {
     "name": "stdout",
     "output_type": "stream",
     "text": [
      "Out[6]: 1000"
     ]
    }
   ],
   "source": [
    "srdd.count()"
   ]
  },
  {
   "cell_type": "markdown",
   "metadata": {
    "application/vnd.databricks.v1+cell": {
     "cellMetadata": {},
     "inputWidgets": {},
     "nuid": "40c8be81-6950-436d-96ab-01d41e75ad64",
     "showTitle": false,
     "tableResultSettingsMap": {},
     "title": ""
    }
   },
   "source": [
    "Top 10 Frequent IP Addresses"
   ]
  },
  {
   "cell_type": "code",
   "execution_count": 0,
   "metadata": {
    "application/vnd.databricks.v1+cell": {
     "cellMetadata": {
      "byteLimit": 2048000,
      "rowLimit": 10000
     },
     "inputWidgets": {},
     "nuid": "c97c2070-20fc-4502-9224-f49637c562ae",
     "showTitle": false,
     "tableResultSettingsMap": {},
     "title": ""
    }
   },
   "outputs": [],
   "source": [
    "pr = srdd.map(lambda x : (x[0],1))"
   ]
  },
  {
   "cell_type": "code",
   "execution_count": 0,
   "metadata": {
    "application/vnd.databricks.v1+cell": {
     "cellMetadata": {
      "byteLimit": 2048000,
      "rowLimit": 10000
     },
     "inputWidgets": {},
     "nuid": "d56c7dde-211f-417c-81de-883ae439042d",
     "showTitle": false,
     "tableResultSettingsMap": {},
     "title": ""
    }
   },
   "outputs": [
    {
     "name": "stdout",
     "output_type": "stream",
     "text": [
      "Out[11]: [('192.168.4.226', 4),\n",
      " ('192.168.5.251', 4),\n",
      " ('192.168.1.152', 4),\n",
      " ('192.168.5.117', 3),\n",
      " ('192.168.8.212', 3),\n",
      " ('192.168.4.189', 3),\n",
      " ('192.168.3.251', 3),\n",
      " ('192.168.5.252', 3),\n",
      " ('192.168.2.235', 3),\n",
      " ('192.168.5.53', 3)]"
     ]
    }
   ],
   "source": [
    "res = pr.reduceByKey(lambda x , y : x + y)\n",
    "res.takeOrdered(10,key = lambda x : -x[1])"
   ]
  },
  {
   "cell_type": "markdown",
   "metadata": {
    "application/vnd.databricks.v1+cell": {
     "cellMetadata": {},
     "inputWidgets": {},
     "nuid": "05d585a4-f2dc-4e14-a4bc-4636f3bc8efd",
     "showTitle": false,
     "tableResultSettingsMap": {},
     "title": ""
    }
   },
   "source": [
    "Status Code Distribution\n"
   ]
  },
  {
   "cell_type": "code",
   "execution_count": 0,
   "metadata": {
    "application/vnd.databricks.v1+cell": {
     "cellMetadata": {
      "byteLimit": 2048000,
      "rowLimit": 10000
     },
     "inputWidgets": {},
     "nuid": "f87e4a1e-b033-4e09-a490-2ef3da5c79f9",
     "showTitle": false,
     "tableResultSettingsMap": {},
     "title": ""
    }
   },
   "outputs": [
    {
     "name": "stdout",
     "output_type": "stream",
     "text": [
      "Out[22]: [('192.168.8.44', '14/May/2025:13:55:00', 'GET', '/index.html', '500', '512'),\n",
      " ('192.168.0.53', '14/May/2025:13:55:18', 'GET', '/products', '200', '331')]"
     ]
    }
   ],
   "source": [
    "srdd.take(2)"
   ]
  },
  {
   "cell_type": "code",
   "execution_count": 0,
   "metadata": {
    "application/vnd.databricks.v1+cell": {
     "cellMetadata": {
      "byteLimit": 2048000,
      "rowLimit": 10000
     },
     "inputWidgets": {},
     "nuid": "4cd255c3-7e26-4835-9715-6cdf2e8bdbe8",
     "showTitle": false,
     "tableResultSettingsMap": {},
     "title": ""
    }
   },
   "outputs": [
    {
     "name": "stdout",
     "output_type": "stream",
     "text": [
      "Out[23]: [('200', 269), ('403', 247), ('500', 244), ('404', 240)]"
     ]
    }
   ],
   "source": [
    "req = srdd.map(lambda x : (x[4],1))\n",
    "c = req.reduceByKey(lambda x,y : x + y)\n",
    "c.takeOrdered(10,key = lambda x : -x[1])"
   ]
  },
  {
   "cell_type": "markdown",
   "metadata": {
    "application/vnd.databricks.v1+cell": {
     "cellMetadata": {},
     "inputWidgets": {},
     "nuid": "e0040bc7-5b3c-4b3f-aacc-0d3c0d148092",
     "showTitle": false,
     "tableResultSettingsMap": {},
     "title": ""
    }
   },
   "source": [
    "Identify Heavy Hitters (IPs with > 100 Requests)"
   ]
  },
  {
   "cell_type": "code",
   "execution_count": 0,
   "metadata": {
    "application/vnd.databricks.v1+cell": {
     "cellMetadata": {
      "byteLimit": 2048000,
      "rowLimit": 10000
     },
     "inputWidgets": {},
     "nuid": "753adda4-a39b-400b-91ca-79c02385e1c0",
     "showTitle": false,
     "tableResultSettingsMap": {},
     "title": ""
    }
   },
   "outputs": [
    {
     "name": "stdout",
     "output_type": "stream",
     "text": [
      "Out[24]: [('192.168.8.44', '14/May/2025:13:55:00', 'GET', '/index.html', '500', '512'),\n",
      " ('192.168.0.53', '14/May/2025:13:55:18', 'GET', '/products', '200', '331')]"
     ]
    }
   ],
   "source": [
    "srdd.take(2)"
   ]
  },
  {
   "cell_type": "code",
   "execution_count": 0,
   "metadata": {
    "application/vnd.databricks.v1+cell": {
     "cellMetadata": {
      "byteLimit": 2048000,
      "rowLimit": 10000
     },
     "inputWidgets": {},
     "nuid": "ebbd88d2-d1ef-4929-8e25-29c04ccb5d0b",
     "showTitle": false,
     "tableResultSettingsMap": {},
     "title": ""
    }
   },
   "outputs": [
    {
     "name": "stdout",
     "output_type": "stream",
     "text": [
      "Out[35]: []"
     ]
    }
   ],
   "source": [
    "mp = srdd.map(lambda x : (x[0],1))\n",
    "res = mp.reduceByKey(lambda x,y : x + y)\n",
    "res.filter(lambda x : x[1] > 100 ).collect()"
   ]
  },
  {
   "cell_type": "markdown",
   "metadata": {
    "application/vnd.databricks.v1+cell": {
     "cellMetadata": {
      "byteLimit": 2048000,
      "rowLimit": 10000
     },
     "inputWidgets": {},
     "nuid": "b72d4acf-450c-4d8c-a66b-46632770be65",
     "showTitle": false,
     "tableResultSettingsMap": {},
     "title": ""
    }
   },
   "source": [
    "Most Accessed URLs"
   ]
  },
  {
   "cell_type": "code",
   "execution_count": 0,
   "metadata": {
    "application/vnd.databricks.v1+cell": {
     "cellMetadata": {
      "byteLimit": 2048000,
      "rowLimit": 10000
     },
     "inputWidgets": {},
     "nuid": "07d342a3-1c3e-43d1-b772-99785a969a3f",
     "showTitle": false,
     "tableResultSettingsMap": {},
     "title": ""
    }
   },
   "outputs": [
    {
     "name": "stdout",
     "output_type": "stream",
     "text": [
      "Out[37]: [('192.168.8.44', '14/May/2025:13:55:00', 'GET', '/index.html', '500', '512'),\n",
      " ('192.168.0.53', '14/May/2025:13:55:18', 'GET', '/products', '200', '331'),\n",
      " ('192.168.0.142', '14/May/2025:13:55:23', 'POST', '/dashboard', '404', '642'),\n",
      " ('192.168.6.249', '14/May/2025:13:55:56', 'GET', '/profile', '200', '512'),\n",
      " ('192.168.3.9', '14/May/2025:13:56:14', 'GET', '/index.html', '404', '899'),\n",
      " ('192.168.10.37', '14/May/2025:13:56:35', 'GET', '/index.html', '403', '215'),\n",
      " ('192.168.0.57', '14/May/2025:13:57:28', 'GET', '/index.html', '200', '378'),\n",
      " ('192.168.4.179', '14/May/2025:13:58:04', 'GET', '/login', '404', '642'),\n",
      " ('192.168.3.10', '14/May/2025:13:58:10', 'GET', '/profile', '500', '325'),\n",
      " ('192.168.2.237', '14/May/2025:13:58:39', 'GET', '/login', '403', '245'),\n",
      " ('192.168.4.230', '14/May/2025:13:58:47', 'GET', '/login', '404', '899'),\n",
      " ('192.168.3.2', '14/May/2025:13:59:23', 'POST', '/login', '403', '899')]"
     ]
    }
   ],
   "source": [
    "srdd.take(12)"
   ]
  },
  {
   "cell_type": "code",
   "execution_count": 0,
   "metadata": {
    "application/vnd.databricks.v1+cell": {
     "cellMetadata": {
      "byteLimit": 2048000,
      "rowLimit": 10000
     },
     "inputWidgets": {},
     "nuid": "7d79fb04-ebb7-4b33-b91f-ffa34c2fe116",
     "showTitle": false,
     "tableResultSettingsMap": {},
     "title": ""
    }
   },
   "outputs": [
    {
     "name": "stdout",
     "output_type": "stream",
     "text": [
      "Out[40]: [('/index.html', 155)]"
     ]
    }
   ],
   "source": [
    "rt = srdd.map(lambda x : (x[3],1))\n",
    "dd = rt.reduceByKey(lambda x , y : x + y )\n",
    "dd.takeOrdered(1,key = lambda x : -x[1])"
   ]
  },
  {
   "cell_type": "markdown",
   "metadata": {
    "application/vnd.databricks.v1+cell": {
     "cellMetadata": {},
     "inputWidgets": {},
     "nuid": "85038e98-70d0-4541-b554-c839d2702079",
     "showTitle": false,
     "tableResultSettingsMap": {},
     "title": ""
    }
   },
   "source": [
    "Error Rate Spike Detection"
   ]
  },
  {
   "cell_type": "code",
   "execution_count": 0,
   "metadata": {
    "application/vnd.databricks.v1+cell": {
     "cellMetadata": {
      "byteLimit": 2048000,
      "rowLimit": 10000
     },
     "inputWidgets": {},
     "nuid": "b456491c-1a70-49a5-8d04-e3122d8c1458",
     "showTitle": false,
     "tableResultSettingsMap": {},
     "title": ""
    }
   },
   "outputs": [
    {
     "name": "stdout",
     "output_type": "stream",
     "text": [
      "Out[41]: [('192.168.8.44', '14/May/2025:13:55:00', 'GET', '/index.html', '500', '512'),\n",
      " ('192.168.0.53', '14/May/2025:13:55:18', 'GET', '/products', '200', '331'),\n",
      " ('192.168.0.142', '14/May/2025:13:55:23', 'POST', '/dashboard', '404', '642'),\n",
      " ('192.168.6.249', '14/May/2025:13:55:56', 'GET', '/profile', '200', '512'),\n",
      " ('192.168.3.9', '14/May/2025:13:56:14', 'GET', '/index.html', '404', '899'),\n",
      " ('192.168.10.37', '14/May/2025:13:56:35', 'GET', '/index.html', '403', '215'),\n",
      " ('192.168.0.57', '14/May/2025:13:57:28', 'GET', '/index.html', '200', '378'),\n",
      " ('192.168.4.179', '14/May/2025:13:58:04', 'GET', '/login', '404', '642'),\n",
      " ('192.168.3.10', '14/May/2025:13:58:10', 'GET', '/profile', '500', '325'),\n",
      " ('192.168.2.237', '14/May/2025:13:58:39', 'GET', '/login', '403', '245')]"
     ]
    }
   ],
   "source": [
    "srdd.take(10)"
   ]
  },
  {
   "cell_type": "code",
   "execution_count": 0,
   "metadata": {
    "application/vnd.databricks.v1+cell": {
     "cellMetadata": {
      "byteLimit": 2048000,
      "rowLimit": 10000
     },
     "inputWidgets": {},
     "nuid": "70da4269-9c2e-4f47-a382-70eb0b8fd122",
     "showTitle": false,
     "tableResultSettingsMap": {},
     "title": ""
    }
   },
   "outputs": [],
   "source": [
    "f= srdd.filter(lambda x : x[4] == '500')\n",
    "er = f.map(lambda x : (x[4]))"
   ]
  },
  {
   "cell_type": "code",
   "execution_count": 0,
   "metadata": {
    "application/vnd.databricks.v1+cell": {
     "cellMetadata": {
      "byteLimit": 2048000,
      "rowLimit": 10000
     },
     "inputWidgets": {},
     "nuid": "dbc8e99f-e5e3-44bc-abf1-61a8981e8a10",
     "showTitle": false,
     "tableResultSettingsMap": {},
     "title": ""
    }
   },
   "outputs": [
    {
     "name": "stdout",
     "output_type": "stream",
     "text": [
      "Out[44]: 244"
     ]
    }
   ],
   "source": [
    "er.count()"
   ]
  },
  {
   "cell_type": "markdown",
   "metadata": {
    "application/vnd.databricks.v1+cell": {
     "cellMetadata": {},
     "inputWidgets": {},
     "nuid": "1314a458-46b2-4f39-9d3f-0d45948ab3db",
     "showTitle": false,
     "tableResultSettingsMap": {},
     "title": ""
    }
   },
   "source": [
    "Time-based Request Analysis"
   ]
  },
  {
   "cell_type": "code",
   "execution_count": 0,
   "metadata": {
    "application/vnd.databricks.v1+cell": {
     "cellMetadata": {
      "byteLimit": 2048000,
      "rowLimit": 10000
     },
     "inputWidgets": {},
     "nuid": "0afffb8f-ee34-4342-9e66-f19e2db93543",
     "showTitle": false,
     "tableResultSettingsMap": {},
     "title": ""
    }
   },
   "outputs": [
    {
     "name": "stdout",
     "output_type": "stream",
     "text": [
      "Out[45]: [('192.168.8.44', '14/May/2025:13:55:00', 'GET', '/index.html', '500', '512'),\n",
      " ('192.168.0.53', '14/May/2025:13:55:18', 'GET', '/products', '200', '331'),\n",
      " ('192.168.0.142', '14/May/2025:13:55:23', 'POST', '/dashboard', '404', '642'),\n",
      " ('192.168.6.249', '14/May/2025:13:55:56', 'GET', '/profile', '200', '512')]"
     ]
    }
   ],
   "source": [
    "srdd.take(4)"
   ]
  },
  {
   "cell_type": "code",
   "execution_count": 0,
   "metadata": {
    "application/vnd.databricks.v1+cell": {
     "cellMetadata": {
      "byteLimit": 2048000,
      "rowLimit": 10000
     },
     "inputWidgets": {},
     "nuid": "9df2d0fe-b7cf-4800-80a4-d92a350d20c3",
     "showTitle": false,
     "tableResultSettingsMap": {},
     "title": ""
    }
   },
   "outputs": [
    {
     "name": "stdout",
     "output_type": "stream",
     "text": [
      "Out[50]: [('22:50', 1),\n",
      " ('22:49', 1),\n",
      " ('22:48', 1),\n",
      " ('22:47', 1),\n",
      " ('22:46', 2),\n",
      " ('22:45', 2),\n",
      " ('22:44', 2),\n",
      " ('22:43', 3),\n",
      " ('22:42', 2),\n",
      " ('22:41', 3),\n",
      " ('22:40', 3),\n",
      " ('22:39', 2),\n",
      " ('22:38', 2),\n",
      " ('22:37', 2),\n",
      " ('22:36', 3),\n",
      " ('22:35', 1),\n",
      " ('22:34', 2),\n",
      " ('22:33', 1),\n",
      " ('22:32', 1),\n",
      " ('22:31', 2),\n",
      " ('22:30', 4),\n",
      " ('22:29', 2),\n",
      " ('22:28', 2),\n",
      " ('22:27', 2),\n",
      " ('22:26', 1),\n",
      " ('22:25', 3),\n",
      " ('22:24', 2),\n",
      " ('22:23', 4),\n",
      " ('22:22', 1),\n",
      " ('22:21', 2),\n",
      " ('22:20', 2),\n",
      " ('22:19', 1),\n",
      " ('22:18', 2),\n",
      " ('22:17', 2),\n",
      " ('22:16', 3),\n",
      " ('22:15', 2),\n",
      " ('22:14', 1),\n",
      " ('22:13', 2),\n",
      " ('22:12', 1),\n",
      " ('22:11', 1),\n",
      " ('22:10', 1),\n",
      " ('22:09', 3),\n",
      " ('22:08', 1),\n",
      " ('22:07', 1),\n",
      " ('22:06', 2),\n",
      " ('22:05', 2),\n",
      " ('22:04', 1),\n",
      " ('22:03', 1),\n",
      " ('22:02', 1),\n",
      " ('22:01', 1),\n",
      " ('22:00', 1),\n",
      " ('21:59', 2),\n",
      " ('21:58', 1),\n",
      " ('21:57', 2),\n",
      " ('21:56', 1),\n",
      " ('21:55', 2),\n",
      " ('21:54', 2),\n",
      " ('21:53', 3),\n",
      " ('21:52', 1),\n",
      " ('21:51', 2),\n",
      " ('21:50', 2),\n",
      " ('21:49', 2),\n",
      " ('21:48', 1),\n",
      " ('21:47', 2),\n",
      " ('21:46', 1),\n",
      " ('21:45', 3),\n",
      " ('21:44', 1),\n",
      " ('21:43', 1),\n",
      " ('21:42', 2),\n",
      " ('21:41', 4),\n",
      " ('21:40', 2),\n",
      " ('21:39', 2),\n",
      " ('21:38', 1),\n",
      " ('21:37', 1),\n",
      " ('21:36', 3),\n",
      " ('21:35', 2),\n",
      " ('21:34', 2),\n",
      " ('21:33', 4),\n",
      " ('21:32', 1),\n",
      " ('21:31', 1),\n",
      " ('21:30', 3),\n",
      " ('21:29', 1),\n",
      " ('21:28', 3),\n",
      " ('21:27', 2),\n",
      " ('21:26', 2),\n",
      " ('21:25', 3),\n",
      " ('21:24', 1),\n",
      " ('21:23', 3),\n",
      " ('21:22', 1),\n",
      " ('21:21', 3),\n",
      " ('21:20', 1),\n",
      " ('21:19', 1),\n",
      " ('21:18', 2),\n",
      " ('21:17', 1),\n",
      " ('21:16', 2),\n",
      " ('21:15', 2),\n",
      " ('21:14', 3),\n",
      " ('21:13', 1),\n",
      " ('21:12', 3),\n",
      " ('21:11', 2),\n",
      " ('21:10', 2),\n",
      " ('21:09', 1),\n",
      " ('21:08', 1),\n",
      " ('21:07', 1),\n",
      " ('21:06', 1),\n",
      " ('21:05', 3),\n",
      " ('21:04', 1),\n",
      " ('21:03', 2),\n",
      " ('21:02', 1),\n",
      " ('21:01', 1),\n",
      " ('21:00', 3),\n",
      " ('20:59', 1),\n",
      " ('20:58', 1),\n",
      " ('20:57', 5),\n",
      " ('20:56', 1),\n",
      " ('20:55', 1),\n",
      " ('20:54', 1),\n",
      " ('20:53', 2),\n",
      " ('20:52', 3),\n",
      " ('20:51', 1),\n",
      " ('20:50', 2),\n",
      " ('20:49', 2),\n",
      " ('20:48', 2),\n",
      " ('20:47', 2),\n",
      " ('20:46', 3),\n",
      " ('20:45', 2),\n",
      " ('20:44', 1),\n",
      " ('20:43', 3),\n",
      " ('20:42', 2),\n",
      " ('20:41', 2),\n",
      " ('20:40', 2),\n",
      " ('20:39', 1),\n",
      " ('20:38', 2),\n",
      " ('20:37', 2),\n",
      " ('20:36', 1),\n",
      " ('20:35', 2),\n",
      " ('20:34', 1),\n",
      " ('20:33', 2),\n",
      " ('20:32', 1),\n",
      " ('20:31', 2),\n",
      " ('20:30', 1),\n",
      " ('20:29', 2),\n",
      " ('20:28', 2),\n",
      " ('20:27', 1),\n",
      " ('20:26', 1),\n",
      " ('20:25', 2),\n",
      " ('20:24', 2),\n",
      " ('20:23', 1),\n",
      " ('20:22', 1),\n",
      " ('20:21', 3),\n",
      " ('20:20', 1),\n",
      " ('20:19', 4),\n",
      " ('20:18', 2),\n",
      " ('20:17', 2),\n",
      " ('20:16', 1),\n",
      " ('20:15', 2),\n",
      " ('20:14', 1),\n",
      " ('20:13', 2),\n",
      " ('20:12', 2),\n",
      " ('20:11', 2),\n",
      " ('20:10', 3),\n",
      " ('20:09', 2),\n",
      " ('20:08', 2),\n",
      " ('20:07', 1),\n",
      " ('20:06', 1),\n",
      " ('20:05', 2),\n",
      " ('20:04', 2),\n",
      " ('20:03', 1),\n",
      " ('20:02', 3),\n",
      " ('20:01', 1),\n",
      " ('20:00', 1),\n",
      " ('19:59', 2),\n",
      " ('19:58', 1),\n",
      " ('19:57', 1),\n",
      " ('19:56', 2),\n",
      " ('19:55', 2),\n",
      " ('19:54', 5),\n",
      " ('19:53', 2),\n",
      " ('19:52', 1),\n",
      " ('19:51', 2),\n",
      " ('19:50', 2),\n",
      " ('19:49', 1),\n",
      " ('19:48', 1),\n",
      " ('19:47', 3),\n",
      " ('19:46', 2),\n",
      " ('19:45', 2),\n",
      " ('19:44', 2),\n",
      " ('19:43', 2),\n",
      " ('19:42', 3),\n",
      " ('19:41', 2),\n",
      " ('19:40', 2),\n",
      " ('19:39', 3),\n",
      " ('19:38', 1),\n",
      " ('19:37', 1),\n",
      " ('19:36', 3),\n",
      " ('19:35', 2),\n",
      " ('19:34', 2),\n",
      " ('19:33', 3),\n",
      " ('19:32', 2),\n",
      " ('19:31', 2),\n",
      " ('19:30', 2),\n",
      " ('19:29', 2),\n",
      " ('19:28', 1),\n",
      " ('19:27', 1),\n",
      " ('19:26', 2),\n",
      " ('19:25', 1),\n",
      " ('19:24', 2),\n",
      " ('19:23', 2),\n",
      " ('19:22', 2),\n",
      " ('19:21', 1),\n",
      " ('19:20', 1),\n",
      " ('19:19', 2),\n",
      " ('19:18', 2),\n",
      " ('19:17', 2),\n",
      " ('19:16', 2),\n",
      " ('19:15', 3),\n",
      " ('19:14', 2),\n",
      " ('19:13', 1),\n",
      " ('19:12', 2),\n",
      " ('19:11', 1),\n",
      " ('19:10', 2),\n",
      " ('19:09', 1),\n",
      " ('19:08', 3),\n",
      " ('19:07', 2),\n",
      " ('19:06', 1),\n",
      " ('19:05', 2),\n",
      " ('19:04', 2),\n",
      " ('19:03', 1),\n",
      " ('19:02', 3),\n",
      " ('19:01', 2),\n",
      " ('19:00', 1),\n",
      " ('18:59', 1),\n",
      " ('18:58', 2),\n",
      " ('18:57', 1),\n",
      " ('18:56', 5),\n",
      " ('18:55', 3),\n",
      " ('18:54', 2),\n",
      " ('18:53', 3),\n",
      " ('18:52', 2),\n",
      " ('18:51', 2),\n",
      " ('18:50', 1),\n",
      " ('18:49', 3),\n",
      " ('18:48', 3),\n",
      " ('18:47', 1),\n",
      " ('18:46', 1),\n",
      " ('18:45', 1),\n",
      " ('18:44', 2),\n",
      " ('18:43', 2),\n",
      " ('18:42', 2),\n",
      " ('18:41', 1),\n",
      " ('18:40', 2),\n",
      " ('18:39', 1),\n",
      " ('18:38', 1),\n",
      " ('18:37', 1),\n",
      " ('18:36', 2),\n",
      " ('18:35', 2),\n",
      " ('18:34', 2),\n",
      " ('18:33', 2),\n",
      " ('18:32', 1),\n",
      " ('18:31', 1),\n",
      " ('18:30', 3),\n",
      " ('18:29', 1),\n",
      " ('18:28', 1),\n",
      " ('18:27', 2),\n",
      " ('18:26', 2),\n",
      " ('18:25', 2),\n",
      " ('18:24', 3),\n",
      " ('18:23', 3),\n",
      " ('18:22', 2),\n",
      " ('18:21', 3),\n",
      " ('18:20', 2),\n",
      " ('18:19', 1),\n",
      " ('18:18', 3),\n",
      " ('18:17', 2),\n",
      " ('18:16', 1),\n",
      " ('18:15', 3),\n",
      " ('18:14', 1),\n",
      " ('18:13', 2),\n",
      " ('18:12', 2),\n",
      " ('18:11', 1),\n",
      " ('18:10', 2),\n",
      " ('18:09', 2),\n",
      " ('18:08', 1),\n",
      " ('18:07', 1),\n",
      " ('18:06', 3),\n",
      " ('18:05', 4),\n",
      " ('18:04', 2),\n",
      " ('18:03', 3),\n",
      " ('18:02', 1),\n",
      " ('18:01', 1),\n",
      " ('18:00', 2),\n",
      " ('17:59', 2),\n",
      " ('17:58', 2),\n",
      " ('17:57', 1),\n",
      " ('17:56', 3),\n",
      " ('17:55', 2),\n",
      " ('17:54', 1),\n",
      " ('17:53', 2),\n",
      " ('17:52', 3),\n",
      " ('17:51', 1),\n",
      " ('17:50', 1),\n",
      " ('17:49', 2),\n",
      " ('17:48', 3),\n",
      " ('17:47', 1),\n",
      " ('17:46', 5),\n",
      " ('17:45', 1),\n",
      " ('17:44', 2),\n",
      " ('17:43', 2),\n",
      " ('17:42', 4),\n",
      " ('17:41', 1),\n",
      " ('17:40', 1),\n",
      " ('17:39', 1),\n",
      " ('17:38', 2),\n",
      " ('17:37', 2),\n",
      " ('17:36', 1),\n",
      " ('17:35', 2),\n",
      " ('17:34', 1),\n",
      " ('17:33', 3),\n",
      " ('17:32', 2),\n",
      " ('17:31', 1),\n",
      " ('17:30', 2),\n",
      " ('17:29', 1),\n",
      " ('17:28', 1),\n",
      " ('17:27', 3),\n",
      " ('17:26', 1),\n",
      " ('17:25', 1),\n",
      " ('17:24', 2),\n",
      " ('17:23', 2),\n",
      " ('17:22', 2),\n",
      " ('17:21', 2),\n",
      " ('17:20', 2),\n",
      " ('17:19', 2),\n",
      " ('17:18', 2),\n",
      " ('17:17', 1),\n",
      " ('17:16', 1),\n",
      " ('17:15', 4),\n",
      " ('17:14', 2),\n",
      " ('17:13', 1),\n",
      " ('17:12', 2),\n",
      " ('17:11', 2),\n",
      " ('17:10', 3),\n",
      " ('17:09', 3),\n",
      " ('17:08', 1),\n",
      " ('17:07', 1),\n",
      " ('17:06', 1),\n",
      " ('17:05', 2),\n",
      " ('17:04', 2),\n",
      " ('17:03', 1),\n",
      " ('17:02', 2),\n",
      " ('17:01', 4),\n",
      " ('17:00', 1),\n",
      " ('16:59', 2),\n",
      " ('16:58', 1),\n",
      " ('16:57', 1),\n",
      " ('16:56', 2),\n",
      " ('16:55', 1),\n",
      " ('16:54', 2),\n",
      " ('16:53', 1),\n",
      " ('16:52', 3),\n",
      " ('16:51', 2),\n",
      " ('16:50', 2),\n",
      " ('16:49', 3),\n",
      " ('16:48', 2),\n",
      " ('16:47', 2),\n",
      " ('16:46', 1),\n",
      " ('16:45', 2),\n",
      " ('16:44', 2),\n",
      " ('16:43', 3),\n",
      " ('16:42', 2),\n",
      " ('16:41', 1),\n",
      " ('16:40', 1),\n",
      " ('16:39', 2),\n",
      " ('16:38', 2),\n",
      " ('16:37', 2),\n",
      " ('16:36', 1),\n",
      " ('16:35', 3),\n",
      " ('16:34', 2),\n",
      " ('16:33', 2),\n",
      " ('16:32', 2),\n",
      " ('16:31', 1),\n",
      " ('16:30', 3),\n",
      " ('16:29', 3),\n",
      " ('16:28', 1),\n",
      " ('16:27', 3),\n",
      " ('16:26', 2),\n",
      " ('16:25', 1),\n",
      " ('16:24', 5),\n",
      " ('16:23', 1),\n",
      " ('16:22', 2),\n",
      " ('16:21', 1),\n",
      " ('16:20', 1),\n",
      " ('16:19', 2),\n",
      " ('16:18', 2),\n",
      " ('16:17', 1),\n",
      " ('16:16', 1),\n",
      " ('16:15', 2),\n",
      " ('16:14', 1),\n",
      " ('16:13', 2),\n",
      " ('16:12', 1),\n",
      " ('16:11', 3),\n",
      " ('16:10', 1),\n",
      " ('16:09', 1),\n",
      " ('16:08', 1),\n",
      " ('16:07', 2),\n",
      " ('16:06', 2),\n",
      " ('16:05', 2),\n",
      " ('16:04', 1),\n",
      " ('16:03', 4),\n",
      " ('16:02', 1),\n",
      " ('16:01', 1),\n",
      " ('16:00', 1),\n",
      " ('15:59', 1),\n",
      " ('15:58', 3),\n",
      " ('15:57', 2),\n",
      " ('15:56', 3),\n",
      " ('15:55', 3),\n",
      " ('15:54', 1),\n",
      " ('15:53', 1),\n",
      " ('15:52', 2),\n",
      " ('15:51', 2),\n",
      " ('15:50', 1),\n",
      " ('15:49', 1),\n",
      " ('15:48', 2),\n",
      " ('15:47', 4),\n",
      " ('15:46', 1),\n",
      " ('15:45', 3),\n",
      " ('15:44', 2),\n",
      " ('15:43', 1),\n",
      " ('15:42', 3),\n",
      " ('15:41', 2),\n",
      " ('15:40', 3),\n",
      " ('15:39', 2),\n",
      " ('15:38', 1),\n",
      " ('15:37', 1),\n",
      " ('15:36', 2),\n",
      " ('15:35', 2),\n",
      " ('15:34', 2),\n",
      " ('15:33', 2),\n",
      " ('15:32', 1),\n",
      " ('15:31', 4),\n",
      " ('15:30', 1),\n",
      " ('15:29', 3),\n",
      " ('15:28', 1),\n",
      " ('15:27', 1),\n",
      " ('15:26', 2),\n",
      " ('15:25', 1),\n",
      " ('15:24', 2),\n",
      " ('15:23', 1),\n",
      " ('15:22', 3),\n",
      " ('15:21', 3),\n",
      " ('15:20', 1),\n",
      " ('15:19', 1),\n",
      " ('15:18', 2),\n",
      " ('15:17', 1),\n",
      " ('15:16', 1),\n",
      " ('15:15', 1),\n",
      " ('15:14', 2),\n",
      " ('15:13', 2),\n",
      " ('15:12', 1),\n",
      " ('15:11', 1),\n",
      " ('15:10', 1),\n",
      " ('15:09', 3),\n",
      " ('15:08', 2),\n",
      " ('15:07', 2),\n",
      " ('15:06', 3),\n",
      " ('15:05', 2),\n",
      " ('15:04', 1),\n",
      " ('15:03', 3),\n",
      " ('15:02', 2),\n",
      " ('15:01', 1),\n",
      " ('15:00', 1),\n",
      " ('14:59', 3),\n",
      " ('14:58', 2),\n",
      " ('14:57', 1),\n",
      " ('14:56', 2),\n",
      " ('14:55', 2),\n",
      " ('14:54', 1),\n",
      " ('14:53', 2),\n",
      " ('14:52', 2),\n",
      " ('14:51', 3),\n",
      " ('14:50', 1),\n",
      " ('14:49', 3),\n",
      " ('14:48', 1),\n",
      " ('14:47', 1),\n",
      " ('14:46', 3),\n",
      " ('14:45', 2),\n",
      " ('14:44', 4),\n",
      " ('14:43', 1),\n",
      " ('14:42', 3),\n",
      " ('14:41', 3),\n",
      " ('14:40', 2),\n",
      " ('14:39', 1),\n",
      " ('14:38', 1),\n",
      " ('14:37', 2),\n",
      " ('14:36', 3),\n",
      " ('14:35', 3),\n",
      " ('14:34', 3),\n",
      " ('14:33', 1),\n",
      " ('14:32', 3),\n",
      " ('14:31', 1),\n",
      " ('14:30', 2),\n",
      " ('14:29', 1),\n",
      " ('14:28', 4),\n",
      " ('14:27', 1),\n",
      " ('14:26', 1),\n",
      " ('14:25', 3),\n",
      " ('14:24', 2),\n",
      " ('14:23', 2),\n",
      " ('14:22', 1),\n",
      " ('14:21', 2),\n",
      " ('14:20', 2),\n",
      " ('14:19', 2),\n",
      " ('14:18', 2),\n",
      " ('14:17', 1),\n",
      " ('14:16', 2),\n",
      " ('14:15', 2),\n",
      " ('14:14', 1),\n",
      " ('14:13', 2),\n",
      " ('14:12', 3),\n",
      " ('14:11', 1),\n",
      " ('14:10', 2),\n",
      " ('14:09', 3),\n",
      " ('14:08', 2),\n",
      " ('14:07', 1),\n",
      " ('14:06', 1),\n",
      " ('14:05', 3),\n",
      " ('14:04', 1),\n",
      " ('14:03', 2),\n",
      " ('14:02', 1),\n",
      " ('14:01', 3),\n",
      " ('14:00', 4),\n",
      " ('13:59', 1),\n",
      " ('13:58', 4),\n",
      " ('13:57', 1),\n",
      " ('13:56', 2),\n",
      " ('13:55', 4)]"
     ]
    }
   ],
   "source": [
    "pa = srdd.map(lambda x : (x[1][12:17],1))\n",
    "pa.reduceByKey(lambda x,y : x + y).sortByKey(ascending=False).collect()"
   ]
  },
  {
   "cell_type": "markdown",
   "metadata": {
    "application/vnd.databricks.v1+cell": {
     "cellMetadata": {},
     "inputWidgets": {},
     "nuid": "3870ca76-3c2a-4b92-ba90-91ff5ecfdbfb",
     "showTitle": false,
     "tableResultSettingsMap": {},
     "title": ""
    }
   },
   "source": [
    " Detect Banned or Suspicious IPs"
   ]
  },
  {
   "cell_type": "code",
   "execution_count": 0,
   "metadata": {
    "application/vnd.databricks.v1+cell": {
     "cellMetadata": {
      "byteLimit": 2048000,
      "rowLimit": 10000
     },
     "inputWidgets": {},
     "nuid": "331dede3-7a5c-4bfa-803d-5a840eaac18a",
     "showTitle": false,
     "tableResultSettingsMap": {},
     "title": ""
    }
   },
   "outputs": [
    {
     "name": "stdout",
     "output_type": "stream",
     "text": [
      "Out[51]: [('192.168.8.44', '14/May/2025:13:55:00', 'GET', '/index.html', '500', '512'),\n",
      " ('192.168.0.53', '14/May/2025:13:55:18', 'GET', '/products', '200', '331'),\n",
      " ('192.168.0.142', '14/May/2025:13:55:23', 'POST', '/dashboard', '404', '642'),\n",
      " ('192.168.6.249', '14/May/2025:13:55:56', 'GET', '/profile', '200', '512')]"
     ]
    }
   ],
   "source": [
    "srdd.take(4)"
   ]
  },
  {
   "cell_type": "code",
   "execution_count": 0,
   "metadata": {
    "application/vnd.databricks.v1+cell": {
     "cellMetadata": {
      "byteLimit": 2048000,
      "rowLimit": 10000
     },
     "inputWidgets": {},
     "nuid": "9c318c90-9cee-4c0f-abc5-ac58f5c1e3e5",
     "showTitle": false,
     "tableResultSettingsMap": {},
     "title": ""
    }
   },
   "outputs": [],
   "source": [
    "f = srdd.filter(lambda x : (x[4] == '500' or x[4] == '403')) "
   ]
  },
  {
   "cell_type": "code",
   "execution_count": 0,
   "metadata": {
    "application/vnd.databricks.v1+cell": {
     "cellMetadata": {
      "byteLimit": 2048000,
      "rowLimit": 10000
     },
     "inputWidgets": {},
     "nuid": "03d589ab-b594-4229-9512-0d4ab7cd84eb",
     "showTitle": false,
     "tableResultSettingsMap": {},
     "title": ""
    }
   },
   "outputs": [],
   "source": [
    "dd = f.map(lambda x : (x[0],1))\n",
    "ty = dd.reduceByKey(lambda x,y : x + y)\n"
   ]
  },
  {
   "cell_type": "code",
   "execution_count": 0,
   "metadata": {
    "application/vnd.databricks.v1+cell": {
     "cellMetadata": {
      "byteLimit": 2048000,
      "rowLimit": 10000
     },
     "inputWidgets": {},
     "nuid": "419ba4fd-d532-4989-9c00-b4d2581c449b",
     "showTitle": false,
     "tableResultSettingsMap": {},
     "title": ""
    }
   },
   "outputs": [
    {
     "name": "stdout",
     "output_type": "stream",
     "text": [
      "Out[60]: [('192.168.5.252', 3), ('192.168.5.32', 3), ('192.168.5.251', 3)]"
     ]
    }
   ],
   "source": [
    "ty.filter(lambda x : x[1] > 2).collect()"
   ]
  },
  {
   "cell_type": "markdown",
   "metadata": {
    "application/vnd.databricks.v1+cell": {
     "cellMetadata": {},
     "inputWidgets": {},
     "nuid": "60212dce-acd9-40e3-930b-0d5b2cf77a18",
     "showTitle": false,
     "tableResultSettingsMap": {},
     "title": ""
    }
   },
   "source": [
    "Average Response Size Per Status Code"
   ]
  },
  {
   "cell_type": "code",
   "execution_count": 0,
   "metadata": {
    "application/vnd.databricks.v1+cell": {
     "cellMetadata": {
      "byteLimit": 2048000,
      "rowLimit": 10000
     },
     "inputWidgets": {},
     "nuid": "d98975f5-8ee8-46b9-b24a-fe9e99e93c45",
     "showTitle": false,
     "tableResultSettingsMap": {},
     "title": ""
    }
   },
   "outputs": [
    {
     "name": "stdout",
     "output_type": "stream",
     "text": [
      "Out[62]: [('192.168.8.44', '14/May/2025:13:55:00', 'GET', '/index.html', '500', '512'),\n",
      " ('192.168.0.53', '14/May/2025:13:55:18', 'GET', '/products', '200', '331'),\n",
      " ('192.168.0.142', '14/May/2025:13:55:23', 'POST', '/dashboard', '404', '642'),\n",
      " ('192.168.6.249', '14/May/2025:13:55:56', 'GET', '/profile', '200', '512'),\n",
      " ('192.168.3.9', '14/May/2025:13:56:14', 'GET', '/index.html', '404', '899')]"
     ]
    }
   ],
   "source": [
    "srdd.take(5)"
   ]
  },
  {
   "cell_type": "code",
   "execution_count": 0,
   "metadata": {
    "application/vnd.databricks.v1+cell": {
     "cellMetadata": {
      "byteLimit": 2048000,
      "rowLimit": 10000
     },
     "inputWidgets": {},
     "nuid": "5a61e2a2-067b-4610-96f0-d248c7c0e805",
     "showTitle": false,
     "tableResultSettingsMap": {},
     "title": ""
    }
   },
   "outputs": [],
   "source": [
    "o = srdd.map(lambda x : (x[4],(int(x[5]),1)))\n",
    "c  = o.reduceByKey(lambda x , y : (x[0] + y[0],x[1] + y[1]))"
   ]
  },
  {
   "cell_type": "code",
   "execution_count": 0,
   "metadata": {
    "application/vnd.databricks.v1+cell": {
     "cellMetadata": {
      "byteLimit": 2048000,
      "rowLimit": 10000
     },
     "inputWidgets": {},
     "nuid": "2795b1f6-10b0-4a9f-8b91-831b2873dfe3",
     "showTitle": false,
     "tableResultSettingsMap": {},
     "title": ""
    }
   },
   "outputs": [
    {
     "name": "stdout",
     "output_type": "stream",
     "text": [
      "Out[78]: [('500', 521.1270491803278),\n",
      " ('200', 531.5130111524163),\n",
      " ('404', 486.84166666666664),\n",
      " ('403', 513.6113360323886)]"
     ]
    }
   ],
   "source": [
    "c.mapValues(lambda x : x[0] / x[1]).collect()"
   ]
  },
  {
   "cell_type": "code",
   "execution_count": 0,
   "metadata": {
    "application/vnd.databricks.v1+cell": {
     "cellMetadata": {},
     "inputWidgets": {},
     "nuid": "101ec4bc-4ef9-486f-86fb-a3c857d85e45",
     "showTitle": false,
     "tableResultSettingsMap": {},
     "title": ""
    }
   },
   "outputs": [],
   "source": []
  }
 ],
 "metadata": {
  "application/vnd.databricks.v1+notebook": {
   "computePreferences": null,
   "dashboards": [],
   "environmentMetadata": {
    "base_environment": "",
    "environment_version": "1"
   },
   "inputWidgetPreferences": null,
   "language": "python",
   "notebookMetadata": {
    "pythonIndentUnit": 4
   },
   "notebookName": "RDD_PROJECTS",
   "widgets": {}
  },
  "language_info": {
   "name": "python"
  }
 },
 "nbformat": 4,
 "nbformat_minor": 0
}
