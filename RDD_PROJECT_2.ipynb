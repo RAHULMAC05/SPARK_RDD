{
 "cells": [
  {
   "cell_type": "code",
   "execution_count": null,
   "id": "06b5958d",
   "metadata": {
    "vscode": {
     "languageId": "plaintext"
    }
   },
   "outputs": [],
   "source": [
    "from pyspark import SparkContext\n"
   ]
  },
  {
   "cell_type": "code",
   "execution_count": null,
   "id": "95509508",
   "metadata": {
    "vscode": {
     "languageId": "plaintext"
    }
   },
   "outputs": [],
   "source": [
    "sc = SparkContext(\"local\", \"APP\")\n",
    "\n",
    "transactions_data = [\n",
    "    \"U101,P301,250.5,2023-09-12 14:05:21\",\n",
    "    \"U102,P302,150.0,2023-09-13 11:15:30\",\n",
    "    \"U101,P303,320.0,2023-10-01 16:45:00\",\n",
    "    \"U103,P301,500.0,2023-09-20 10:00:00\",\n",
    "    \"U104,P304,75.0,2023-09-22 12:30:00\",\n",
    "    \"U105,P305,600.0,2023-10-05 14:25:00\",\n",
    "    \"U102,P301,80.0,2023-10-06 09:00:00\",\n",
    "    \"U106,P306,400.0,2023-09-12 18:10:00\",\n",
    "    \"U101,P302,50.0,2023-10-12 19:30:00\",\n",
    "    \"U107,P307,350.0,2023-09-30 20:00:00\",\n",
    "    \"U105,P303,275.0,2023-10-02 11:45:00\"\n",
    "]\n",
    "\n",
    "t_rdd = sc.parallelize(transactions_data, 3)\n",
    "\n",
    "users_data = [\n",
    "    \"U101,John,28,New York\",\n",
    "    \"U102,Alice,34,Chicago\",\n",
    "    \"U103,David,22,Los Angeles\",\n",
    "    \"U104,Eva,29,Chicago\",\n",
    "    \"U105,Mark,30,New York\",\n",
    "    \"U106,Sophie,26,San Francisco\",\n",
    "    \"U107,Liam,32,Chicago\",\n",
    "    \"U108,Noah,25,Miami\"\n",
    "]\n",
    "\n",
    "u_rdd = sc.parallelize(users_data, 3)\n",
    "\n",
    "p_rdd = sc.textFile(r'C:\\Users\\rahul\\OneDrive\\Documents\\products.txt')\n"
   ]
  },
  {
   "cell_type": "code",
   "execution_count": null,
   "id": "d0b2cb90",
   "metadata": {
    "vscode": {
     "languageId": "plaintext"
    }
   },
   "outputs": [],
   "source": [
    "# 1️⃣ Read transactions.txt and calculate the total amount spent by each user.\n",
    "\n",
    "m_1 = t_rdd.map(lambda x: x.split(',')).map(lambda y: (y[0], int(float(y[2]))))\n",
    "result_1 = m_1.reduceByKey(lambda x, y: x + y)\n",
    "print(result_1.collect())"
   ]
  },
  {
   "cell_type": "code",
   "execution_count": null,
   "id": "83d7d615",
   "metadata": {
    "vscode": {
     "languageId": "plaintext"
    }
   },
   "outputs": [],
   "source": [
    "# 2️⃣ Find the top 5 highest-spending users based on total amount spent from transactions.txt.\n",
    "\n",
    "print(result_1.takeOrdered(5,key = lambda x : -x[1]))"
   ]
  },
  {
   "cell_type": "code",
   "execution_count": null,
   "id": "f6bbf8f0",
   "metadata": {
    "vscode": {
     "languageId": "plaintext"
    }
   },
   "outputs": [],
   "source": [
    "# 3️⃣ From users.txt, count the number of users in each city.\n",
    "\n",
    "m_3 = u_rdd.map(lambda x: x.split(\",\")).map(lambda g: (g[3], 1))\n",
    "result_3 = m_3.reduceByKey(lambda f, x: f + x).sortBy(lambda l: l[1])\n",
    "print(result_3.collect())\n"
   ]
  },
  {
   "cell_type": "code",
   "execution_count": null,
   "id": "c1d3cc93",
   "metadata": {
    "vscode": {
     "languageId": "plaintext"
    }
   },
   "outputs": [],
   "source": [
    "# 4️⃣ Join transactions.txt with users.txt to display: user_id, name, total amount spent\n",
    "\n",
    "def parsing(nums):\n",
    "    sp = nums.split(\",\")\n",
    "    return (sp[0], int(float(sp[2])))\n",
    "\n",
    "def parsing1(nums):\n",
    "    sp = nums.split(\",\")\n",
    "    return (sp[0], sp[1])\n",
    "\n",
    "parse_t = t_rdd.map(parsing)\n",
    "parse_u = u_rdd.map(parsing1)\n",
    "total = parse_t.reduceByKey(lambda x, y: x + y)\n",
    "jn = parse_u.join(total)\n",
    "print(jn.collect())"
   ]
  },
  {
   "cell_type": "code",
   "execution_count": null,
   "id": "81c292cf",
   "metadata": {
    "vscode": {
     "languageId": "plaintext"
    }
   },
   "outputs": [],
   "source": [
    "# 5️⃣ From transactions.txt, identify the most popular product category by: Joining with products.txt\n",
    "# Counting the number of transactions for each category.\n",
    "\n",
    "m_5 = t_rdd.map(lambda f: f.split(\",\")).map(lambda g: (g[1], 1))\n",
    "mr = m_5.reduceByKey(lambda b, c: b + c)\n",
    "pp_r = p_rdd.map(lambda o: o.split(\",\")).map(lambda c: (c[0], c[2]))\n",
    "join_5 = mr.join(pp_r).sortBy(lambda x: -x[1][0])\n",
    "print(join_5.take(5))"
   ]
  },
  {
   "cell_type": "code",
   "execution_count": null,
   "id": "f59b5ba8",
   "metadata": {
    "vscode": {
     "languageId": "plaintext"
    }
   },
   "outputs": [],
   "source": [
    "\n",
    "# 6️⃣ From transactions.txt, find the average transaction amount per product.\n",
    "\n",
    "m_6 = t_rdd.map(lambda x: x.split(',')).map(lambda y: (y[1], (int(float(y[2])), 1)))\n",
    "re6 = m_6.reduceByKey(lambda x, y: (x[0] + y[0], x[1] + y[1]))\n",
    "final_res = re6.mapValues(lambda x: x[0] / x[1])\n",
    "print(final_res.collect())"
   ]
  },
  {
   "cell_type": "code",
   "execution_count": null,
   "id": "00980f01",
   "metadata": {
    "vscode": {
     "languageId": "plaintext"
    }
   },
   "outputs": [],
   "source": [
    "# 7️⃣ Identify users who have made more than 5 transactions.\n",
    "\n",
    "us = t_rdd.map(lambda v: v.split(\",\")).map(lambda f: (f[0], 1)).reduceByKey(lambda x, c: x + c)\n",
    "fil = us.filter(lambda x: x[1] > 5)\n",
    "print(fil.collect())"
   ]
  },
  {
   "cell_type": "code",
   "execution_count": null,
   "id": "bce8c869",
   "metadata": {
    "vscode": {
     "languageId": "plaintext"
    }
   },
   "outputs": [],
   "source": [
    "\n",
    "# 8️⃣ Given a list of transactions, find the highest transaction amount for each user.\n",
    "\n",
    "uss = t_rdd.map(lambda f: f.split(\",\")).map(lambda g: (g[0], int(float(g[2]))))\n",
    "rt = uss.reduceByKey(lambda d, s: max(d, s))\n",
    "print(rt.collect())"
   ]
  },
  {
   "cell_type": "code",
   "execution_count": null,
   "id": "e631257d",
   "metadata": {
    "vscode": {
     "languageId": "plaintext"
    }
   },
   "outputs": [],
   "source": [
    "# 9️⃣ From transactions.txt, count the number of transactions per month.\n",
    "\n",
    "dff = t_rdd.map(lambda f: f.split(\",\")).map(lambda g: (g[3].split(\"-\")[1], 1))\n",
    "ree = dff.reduceByKey(lambda v, g: v + g)\n",
    "print(ree.collect())\n"
   ]
  },
  {
   "cell_type": "code",
   "execution_count": null,
   "id": "3e0a6165",
   "metadata": {
    "vscode": {
     "languageId": "plaintext"
    }
   },
   "outputs": [],
   "source": [
    "\n",
    "# 🔟 For each city in users.txt, calculate:\n",
    "\n",
    "user_city = u_rdd.map(lambda x: x.split(\",\")).map(lambda y: (y[0], y[3]))\n",
    "user_amount = t_rdd.map(lambda x: x.split(\",\")).map(lambda y: (y[0], int(float(y[2]))))\n"
   ]
  },
  {
   "cell_type": "code",
   "execution_count": null,
   "id": "54cfe936",
   "metadata": {
    "vscode": {
     "languageId": "plaintext"
    }
   },
   "outputs": [],
   "source": [
    "#Joining \n",
    "jn = user_city.join(user_amount)\n",
    "print(jn.collect())\n",
    "ct = jn.map(lambda x: (x[1][0], 1)).reduceByKey(lambda z, v: z + v)\n",
    "mp = jn.map(lambda x : (x[1][0],(x[1][1],1))).reduceByKey(lambda x ,y : (x[0] + y[0],x[1] + y[1])).mapValues(lambda x: x[0] / x[1])\n",
    "print(f\"Averege : {mp.collect()}\")\n",
    "print(f\"The count of user is {ct.collect()}\")"
   ]
  }
 ],
 "metadata": {
  "language_info": {
   "name": "python"
  }
 },
 "nbformat": 4,
 "nbformat_minor": 5
}
